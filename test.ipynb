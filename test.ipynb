{
 "cells": [
  {
   "cell_type": "code",
   "execution_count": 20,
   "metadata": {
    "scrolled": true
   },
   "outputs": [
    {
     "name": "stdout",
     "output_type": "stream",
     "text": [
      "\u001b[31mERROR: Could not find a version that satisfies the requirement vlbi_imaging_utils (from versions: none)\u001b[0m\u001b[31m\n",
      "\u001b[0m\u001b[31mERROR: No matching distribution found for vlbi_imaging_utils\u001b[0m\u001b[31m\n",
      "\u001b[0mNote: you may need to restart the kernel to use updated packages.\n"
     ]
    }
   ],
   "source": [
    "pip install vlbi_imaging_utils"
   ]
  },
  {
   "cell_type": "code",
   "execution_count": 10,
   "metadata": {},
   "outputs": [],
   "source": [
    "from __future__ import division\n",
    "from __future__ import print_function\n",
    "\n",
    "import matplotlib.pyplot as plt\n",
    "import numpy as np\n",
    "import ehtim as eh\n",
    "import time\n",
    "import os\n",
    "\n",
    "plt.close('all')\n",
    "\n",
    "# Fourier transform type - change this to 'direct' if 'nfft' is not installed!!!\n",
    "ttype = 'nfft'"
   ]
  },
  {
   "cell_type": "code",
   "execution_count": 11,
   "metadata": {},
   "outputs": [],
   "source": [
    "# create directory for results\n",
    "outpath = './tutorial_results/ehtim_tutorial1'\n",
    "if not os.path.exists(os.path.dirname(outpath)):\n",
    "    os.makedirs(os.path.dirname(outpath))"
   ]
  },
  {
   "cell_type": "code",
   "execution_count": 18,
   "metadata": {},
   "outputs": [
    {
     "name": "stdout",
     "output_type": "stream",
     "text": [
      "Warning: load_obs_oifits does NOT currently support polarimetric data!\n",
      "Opening ./testing/oifits/test_01.oifits\n",
      "1 wavelength table with 1 wavelength in total\n",
      "1 target\n",
      "1 array with 8 stations\n",
      "10500 visibility^2 measurements\n",
      "10320 closure phase measurements\n"
     ]
    },
    {
     "ename": "IndexError",
     "evalue": "index 0 is out of bounds for axis 0 with size 0",
     "output_type": "error",
     "traceback": [
      "\u001b[31m---------------------------------------------------------------------------\u001b[39m",
      "\u001b[31mIndexError\u001b[39m                                Traceback (most recent call last)",
      "\u001b[36mCell\u001b[39m\u001b[36m \u001b[39m\u001b[32mIn[18]\u001b[39m\u001b[32m, line 2\u001b[39m\n\u001b[32m      1\u001b[39m inobs = \u001b[33m'\u001b[39m\u001b[33m./testing/oifits/test_01.oifits\u001b[39m\u001b[33m'\u001b[39m\n\u001b[32m----> \u001b[39m\u001b[32m2\u001b[39m obs   = \u001b[43meh\u001b[49m\u001b[43m.\u001b[49m\u001b[43mobsdata\u001b[49m\u001b[43m.\u001b[49m\u001b[43mload_oifits\u001b[49m\u001b[43m(\u001b[49m\u001b[43minobs\u001b[49m\u001b[43m)\u001b[49m\n",
      "\u001b[36mFile \u001b[39m\u001b[32m~/research/myenv/lib/python3.12/site-packages/ehtim/obsdata.py:4846\u001b[39m, in \u001b[36mload_oifits\u001b[39m\u001b[34m(fname, flux)\u001b[39m\n\u001b[32m   4835\u001b[39m \u001b[38;5;28;01mdef\u001b[39;00m\u001b[38;5;250m \u001b[39m\u001b[34mload_oifits\u001b[39m(fname, flux=\u001b[32m1.0\u001b[39m):\n\u001b[32m   4836\u001b[39m \u001b[38;5;250m    \u001b[39m\u001b[33;03m\"\"\"Load data from an oifits file. Does NOT currently support polarization.\u001b[39;00m\n\u001b[32m   4837\u001b[39m \n\u001b[32m   4838\u001b[39m \u001b[33;03m       Args:\u001b[39;00m\n\u001b[32m   (...)\u001b[39m\u001b[32m   4843\u001b[39m \u001b[33;03m           obs (Obsdata): Obsdata object loaded from file\u001b[39;00m\n\u001b[32m   4844\u001b[39m \u001b[33;03m    \"\"\"\u001b[39;00m\n\u001b[32m-> \u001b[39m\u001b[32m4846\u001b[39m     \u001b[38;5;28;01mreturn\u001b[39;00m \u001b[43mehtim\u001b[49m\u001b[43m.\u001b[49m\u001b[43mio\u001b[49m\u001b[43m.\u001b[49m\u001b[43mload\u001b[49m\u001b[43m.\u001b[49m\u001b[43mload_obs_oifits\u001b[49m\u001b[43m(\u001b[49m\u001b[43mfname\u001b[49m\u001b[43m,\u001b[49m\u001b[43m \u001b[49m\u001b[43mflux\u001b[49m\u001b[43m=\u001b[49m\u001b[43mflux\u001b[49m\u001b[43m)\u001b[49m\n",
      "\u001b[36mFile \u001b[39m\u001b[32m~/research/myenv/lib/python3.12/site-packages/ehtim/io/load.py:1562\u001b[39m, in \u001b[36mload_obs_oifits\u001b[39m\u001b[34m(filename, flux)\u001b[39m\n\u001b[32m   1559\u001b[39m tint = np.array([vis_data[i].int_time \u001b[38;5;28;01mfor\u001b[39;00m i \u001b[38;5;129;01min\u001b[39;00m \u001b[38;5;28mrange\u001b[39m(\u001b[38;5;28mlen\u001b[39m(vis_data))])\n\u001b[32m   1560\u001b[39m \u001b[38;5;66;03m# if not all(tint[0] == item for item in np.reshape(tint, (-1)) ):\u001b[39;00m\n\u001b[32m   1561\u001b[39m \u001b[38;5;66;03m#    raise TypeError(\"The time integrations for each visibility are different\")\u001b[39;00m\n\u001b[32m-> \u001b[39m\u001b[32m1562\u001b[39m tint = \u001b[43mtint\u001b[49m\u001b[43m[\u001b[49m\u001b[32;43m0\u001b[39;49m\u001b[43m]\u001b[49m\n\u001b[32m   1563\u001b[39m tint = tint * np.ones(amp.shape)\n\u001b[32m   1565\u001b[39m \u001b[38;5;66;03m# get telescope names for each visibility\u001b[39;00m\n",
      "\u001b[31mIndexError\u001b[39m: index 0 is out of bounds for axis 0 with size 0"
     ]
    }
   ],
   "source": [
    "inobs = './testing/oifits/test_01.oifits'\n",
    "obs   = eh.obsdata.load_oifits(inobs)"
   ]
  },
  {
   "cell_type": "code",
   "execution_count": null,
   "metadata": {},
   "outputs": [],
   "source": []
  }
 ],
 "metadata": {
  "kernelspec": {
   "display_name": "Python 3 (ipykernel)",
   "language": "python",
   "name": "python3"
  },
  "language_info": {
   "codemirror_mode": {
    "name": "ipython",
    "version": 3
   },
   "file_extension": ".py",
   "mimetype": "text/x-python",
   "name": "python",
   "nbconvert_exporter": "python",
   "pygments_lexer": "ipython3",
   "version": "3.12.3"
  }
 },
 "nbformat": 4,
 "nbformat_minor": 4
}
